{
 "cells": [
  {
   "cell_type": "code",
   "execution_count": null,
   "id": "1e2ca533-40c5-456f-bba4-11be286cccc1",
   "metadata": {},
   "outputs": [
    {
     "name": "stdout",
     "output_type": "stream",
     "text": [
      "Your Ford still has 9725 km before the next maintenance.\n",
      "{'make': 'Ford', 'model': 'Mustang', 'year': 1970, 'mileage': 150275, 'last_service': 140000, 'service_condition': 'non'}\n",
      "**************************************************\n",
      "{'make': 'Dodge', 'model': 'Charger', 'year': 2020, 'mileage': 72000, 'last_service': 65000, 'service_condition': 'ok'}\n",
      "**************************************************\n",
      "Your chery still has 1700 km before the next maintenance.\n",
      "The 2011 chery M11 has a current mileage of 186300 km The last maintenance was marked at 18000 km.\n"
     ]
    }
   ],
   "source": [
    "class Vehicle:  # creating Vehicle class\n",
    "\n",
    "    def __init__(self, make, model, year, mileage, last_service, service_condition):  # instance attributes\n",
    "        self.make = str(make)\n",
    "        self.model = str(model)\n",
    "        self.year = year\n",
    "        self.mileage = int(mileage)\n",
    "        self.last_service = int(last_service)\n",
    "        self.service_condition = service_condition\n",
    "\n",
    "    # Trip recording and calculations\n",
    "    def record_trip(self, trip):\n",
    "        if 1 <= trip < 10000:\n",
    "            self.mileage += trip\n",
    "            service_distance = self.mileage - self.last_service\n",
    "            remaining_distance = 10000 - (service_distance % 10000)\n",
    "            print(f\"Your {self.make} still has {remaining_distance} km before the next maintenance.\")\n",
    "        elif trip >= 10000:\n",
    "            condition = input(f\"Confirm last service of your {self.make}? (yes/no): \").strip().lower()\n",
    "            if condition == 'yes':\n",
    "                self.service_condition = \"ok\"\n",
    "                self.last_service += 10000\n",
    "                self.mileage += trip\n",
    "            elif condition == 'no':\n",
    "                print(f\"Warning: Missing at {self.last_service + 10000} service must be done.\")\n",
    "                self.service_condition = \"due\"\n",
    "                self.mileage += trip\n",
    "\n",
    "\n",
    "    def get_attributes_dict(self):\n",
    "        \"\"\"Returns a dictionary of class attributes and their corresponding instance values.\"\"\"\n",
    "        return {\n",
    "            'make': self.make,\n",
    "            'model': self.model,\n",
    "            'year': self.year,\n",
    "            'mileage': self.mileage,\n",
    "            'last_service': self.last_service,\n",
    "            'service_condition': self.service_condition\n",
    "        }\n",
    "\n",
    "    def __repr__(self):\n",
    "            return (f\"The {self.year} {self.make} {self.model} has a current mileage of {self.mileage} km \"\n",
    "                    f\"The last maintenance was marked at {self.last_service} km.\")\n",
    "\n",
    "# Creating instances of vehicles\n",
    "ford = Vehicle(\"Ford\", \"Mustang\", 1970, 147000, 140000, \"non\")\n",
    "\n",
    "dodge = Vehicle(\"Dodge\", \"Charger\", 2020, 60000, 55000, \"non\")\n",
    "\n",
    "chery= Vehicle(\"chery\", \"M11\", 2011, 185000, 18000, \"non\")\n",
    "# Testing the methods\n",
    "\n",
    "ford.record_trip(3275)\n",
    "print(ford.get_attributes_dict())\n",
    "\n",
    "print(\"*\"*50)\n",
    "\n",
    "dodge.record_trip(12000)\n",
    "print(dodge.get_attributes_dict())\n",
    "\n",
    "print(\"*\"*50)\n",
    "\n",
    "chery.record_trip(1300)\n",
    "print(chery)"
   ]
  }
 ],
 "metadata": {
  "kernelspec": {
   "display_name": "Python 3",
   "language": "python",
   "name": "python3"
  },
  "language_info": {
   "name": "python",
   "version": "3.12.5"
  }
 },
 "nbformat": 4,
 "nbformat_minor": 2
}
